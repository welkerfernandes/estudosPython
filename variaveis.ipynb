{
  "nbformat": 4,
  "nbformat_minor": 0,
  "metadata": {
    "colab": {
      "provenance": [],
      "toc_visible": true,
      "authorship_tag": "ABX9TyMGPiGIEnO1umAajPoBt7h8"
    },
    "kernelspec": {
      "name": "python3",
      "display_name": "Python 3"
    },
    "language_info": {
      "name": "python"
    }
  },
  "cells": [
    {
      "cell_type": "markdown",
      "source": [
        "Variáveis"
      ],
      "metadata": {
        "id": "mp1oJ-UDh32f"
      }
    },
    {
      "cell_type": "markdown",
      "source": [
        "# Variáveis"
      ],
      "metadata": {
        "id": "W_58gYr3xzbH"
      }
    },
    {
      "cell_type": "code",
      "source": [
        "idade = 30\n",
        "print(idade)"
      ],
      "metadata": {
        "colab": {
          "base_uri": "https://localhost:8080/"
        },
        "id": "5MLTxRB4h7Is",
        "outputId": "47210e02-0b6d-4809-f9fe-abe856257406"
      },
      "execution_count": null,
      "outputs": [
        {
          "output_type": "stream",
          "name": "stdout",
          "text": [
            "30\n"
          ]
        }
      ]
    },
    {
      "cell_type": "markdown",
      "source": [
        "Tipos Numéricos"
      ],
      "metadata": {
        "id": "0_8USN8OisqY"
      }
    },
    {
      "cell_type": "code",
      "source": [
        "preco_da_banana = 1000\n",
        "typo = type(preco_da_banana)\n",
        "print(preco_da_banana)\n",
        "print(typo)\n",
        "\n",
        "juros = 0.05\n",
        "tipo_juros = type(juros)\n",
        "print(juros)\n",
        "print(tipo_juros)"
      ],
      "metadata": {
        "colab": {
          "base_uri": "https://localhost:8080/"
        },
        "id": "sYKnX7xdiuaY",
        "outputId": "b170524c-bf62-4800-f736-1572bbd247a0"
      },
      "execution_count": null,
      "outputs": [
        {
          "output_type": "stream",
          "name": "stdout",
          "text": [
            "1000\n",
            "<class 'int'>\n",
            "0.05\n",
            "<class 'float'>\n"
          ]
        }
      ]
    },
    {
      "cell_type": "markdown",
      "source": [
        "\n",
        "\n",
        "```\n",
        "# Isto está formatado como código\n",
        "```\n",
        "\n",
        "Tipo textual"
      ],
      "metadata": {
        "id": "wxbNRdhWjgOo"
      }
    },
    {
      "cell_type": "markdown",
      "source": [
        "# Números"
      ],
      "metadata": {
        "id": "Af_BnF_omWZO"
      }
    },
    {
      "cell_type": "markdown",
      "source": [
        "Tipos de variáveis numericas<br>\n",
        "inteiro (1,2,3)<br>\n",
        "float (1.4, 1.47)<br>\n",
        "complex (1+5j)<br>"
      ],
      "metadata": {
        "id": "N-AK-NpimhZD"
      }
    },
    {
      "cell_type": "code",
      "source": [
        "inteiro = 10\n",
        "floa_num = 4.5\n",
        "complexo = (1+5j)\n",
        "print(type(inteiro), type(floa_num), type(complexo))"
      ],
      "metadata": {
        "colab": {
          "base_uri": "https://localhost:8080/"
        },
        "id": "0FkjHkronBw8",
        "outputId": "d59f57a9-7711-4f1c-fc0a-661fd93fd639"
      },
      "execution_count": 20,
      "outputs": [
        {
          "output_type": "stream",
          "name": "stdout",
          "text": [
            "<class 'int'> <class 'float'> <class 'complex'>\n"
          ]
        }
      ]
    },
    {
      "cell_type": "markdown",
      "source": [
        "**Operações**"
      ],
      "metadata": {
        "id": "im-mbzZJn59x"
      }
    },
    {
      "cell_type": "markdown",
      "source": [
        "+ (soma +)\n",
        "- (subtração -)\n",
        "/ (divisão /)\n",
        "* (multiplicação * )\n",
        "\n",
        "Operações mais avançadas\n",
        "\n",
        "+ (divisão inteira //)\n",
        "+ (potência ou exponenciação **)\n",
        "+ (resto da divisão %)"
      ],
      "metadata": {
        "id": "rWJumo9goIT5"
      }
    },
    {
      "cell_type": "markdown",
      "source": [
        "**Exemplo**: Carrinho de compra"
      ],
      "metadata": {
        "id": "lKgE5Z0LoyyC"
      }
    },
    {
      "cell_type": "code",
      "source": [
        "quant_item_carr_compras = 0\n",
        "quant_item_carr_compras = quant_item_carr_compras + 1\n",
        "print('Quantidade de Produto no carrinho: {}'.format(quant_item_carr_compras))\n",
        "\n",
        "quant_item_carr_compras = quant_item_carr_compras + 1\n",
        "print('Quant. Produto no Carrinho: {}'.format(quant_item_carr_compras))"
      ],
      "metadata": {
        "colab": {
          "base_uri": "https://localhost:8080/"
        },
        "id": "jMP-ojHlo1vV",
        "outputId": "98d2fe71-87bb-4214-a37d-5a3ffb3ec733"
      },
      "execution_count": 25,
      "outputs": [
        {
          "output_type": "stream",
          "name": "stdout",
          "text": [
            "Quantidade de Produto no carrinho: 1\n",
            "Quant. Produto no Carrinho: 2\n"
          ]
        }
      ]
    },
    {
      "cell_type": "markdown",
      "source": [
        "Deixando **Código mais limpo**"
      ],
      "metadata": {
        "id": "f1rysKONqFaP"
      }
    },
    {
      "cell_type": "code",
      "source": [
        "print('Aqui adicionei 3 produtos no carrinho usando a mesma variável')\n",
        "quant_carr_compra = 0\n",
        "quant_carr_compra += 1\n",
        "print('Tenho {} produto no carrinho'.format(quant_carr_compra))\n",
        "\n",
        "quant_carr_compra += 1\n",
        "print('Agora tenho {} produto no carrinho'.format(quant_carr_compra))\n",
        "\n",
        "quant_carr_compra += 1\n",
        "print('Agora tenho {} produto no carrinho'.format(quant_carr_compra))"
      ],
      "metadata": {
        "colab": {
          "base_uri": "https://localhost:8080/"
        },
        "id": "qhWWE1uDqHv7",
        "outputId": "053c0a9a-5760-4bee-eedc-d60562d2bfe6"
      },
      "execution_count": 31,
      "outputs": [
        {
          "output_type": "stream",
          "name": "stdout",
          "text": [
            "Aqui adicionei 3 produtos no carrinho usando a mesma variável\n",
            "Tenho 1 produto no carrinho\n",
            "Agora tenho 2 produto no carrinho\n",
            "Agora tenho 3 produto no carrinho\n"
          ]
        }
      ]
    },
    {
      "cell_type": "markdown",
      "source": [
        "Exemplo **Float ou Decimais**"
      ],
      "metadata": {
        "id": "-u2dFOOps6sc"
      }
    },
    {
      "cell_type": "code",
      "source": [
        "preco_da_carne = 23\n",
        "quantidade = 0.582\n",
        "total_pagar = preco_da_carne * quantidade\n",
        "print('R$ {}'.format(total_pagar))"
      ],
      "metadata": {
        "colab": {
          "base_uri": "https://localhost:8080/"
        },
        "id": "aB2UyrlDs-Bb",
        "outputId": "b7736389-e95e-43b3-c3c3-4a6f2202e0a9"
      },
      "execution_count": 33,
      "outputs": [
        {
          "output_type": "stream",
          "name": "stdout",
          "text": [
            "R$ 13.386\n"
          ]
        }
      ]
    },
    {
      "cell_type": "markdown",
      "source": [
        "**Converter** tipo de dados de uma variável"
      ],
      "metadata": {
        "id": "ZipatdgRtOXy"
      }
    },
    {
      "cell_type": "code",
      "source": [
        "var = int(10)\n",
        "print(var)\n",
        "var = float(10)\n",
        "print(var)\n",
        "var = complex(10)\n",
        "print(var)"
      ],
      "metadata": {
        "colab": {
          "base_uri": "https://localhost:8080/"
        },
        "id": "EfCrZ_6ZtrMV",
        "outputId": "84edd043-90ce-4aa9-cd02-47616c2a01ff"
      },
      "execution_count": 35,
      "outputs": [
        {
          "output_type": "stream",
          "name": "stdout",
          "text": [
            "10\n",
            "10.0\n",
            "(10+0j)\n"
          ]
        }
      ]
    },
    {
      "cell_type": "markdown",
      "source": [
        "**Revisando**<br>\n",
        "![image.png](data:image/png;base64,iVBORw0KGgoAAAANSUhEUgAAAOQAAAA+CAYAAAA78rfEAAAgAElEQVR4nO2deWBU1b3HP+feyWRmMjNZyE5AIRqWsIqauiCIfRVEEStSFFxqfdpq7VPUVtLnq+9RraAVsbWKWhUUWSKC+BQFxGcVIWxJQJJIgIQ1JISQdfZ77/vjTiaZmMkCARLMF25mO/s5v3N+5/f7nfMTmqZp9KAHPegSkM51AXrQgx40oocge9CDLoTuR5DdicHuTmVtiu5a7rONM9BOhk5LSQNEp6UWGgI0NfBW/9PZ+TY09OmmKwC12ecz3UanW3YNNFVDyJ1U0LM1LpoTx1kai52NzlkhGxq9s2aM1tLRQAj9aTPs6eTT0cZunpZ/YOv/0P+GKnNntJvWmI7W5H2HcaYHstp2kHaheR395dY0LbgOWrPXjqTf0teqFnjVVK3TV8mOEaQGdTV1VByvoLqqOlC41157DafDGQim+JSOl0SD2upaNFWvbPXJalRFDfwGULy/mKVLluJ2uUGAx+tB1Zr0sP+tx+2hvKyckydOcrKyiorjFcFhVFAV9QcDV1M1SopLWLFiRaAONdW1uJ1uANxON3W19YF6qz49Q03RO0ZVGihCHxi5ubmsXv0xoCEkAZreNpqqNdYNGiezEJ3r8ypUVVbhqHME0nfUO4LSKC4u5t1339UHJBonT57kREUlJyoqKS8r95dPDTyKTwkugx/fF3zPylWrAvU6WXky8Ft9XX1QP/8Azcq/8euNrP5odXAQTQu0V3sGs8ft4cTxE1RXVXOysoramlo+WvUR+/fv19tZaSSKJUuWsG/fPv1D06r56+52uQN9B3obVp2sCsR3u9z6Z3+cQFi14TO89uprlB4tZenSpRw8cDBk3U8VHSJIj8fD7bffzh133MGwYcPIyspCUzWiIqMCg7CmqgZJkjpUQNWnUlp6jJEjR1JeXkZ9fT3Dhg1jy5Yt+Lw+nE4nik/hyOEjLF68GIQ+sL0er97BqobT4cThcIAG5eXl/Om//kR6ejrXXnstDz74IOVl5bidbjxeD0jw7DPP8s03X6MoCh63F6fDiZAExcXFrFu7DklIuBwuZs16kgWvvw4avPfeezz++GN4PF6qTlbhcOoE4nQ6cTgduN1unegUFZfLTVFRERs3foNA4HK6cDgcCCEQssDj8VJfp5e3ocNbajOX08VDDz3I5RkZDB48mM2bNlNdXU1mZiZHjhxFUzTqa+vJz8/niy++AE0nzlmzZjF2zBguvXQUTz31FC6XC5fLhc+nIEkSr7zyCt98sxEAr8eLx+UBFQ4dOsSCBa+hKipCFgwZMoQN6zcA8Pjjj/Pcc88B+mB2OV3+ycGJ2+XG4/EA4PP48Lg97C/ezxcbNqCpGo56B/V1DoQk0NBw+tujLaxfv577H3iA/v37c/vt01jw2gIMhjAMsr7bqnfU4/P5cLvczJ0zl8rKSjxuD4qqT6hOhxOPx4PX5+Xxxx4nOzsbAMWnMu/FeVx44YUUFxfj9Xh54oknGDliJF63F1VTURR98kQCr9eL1+vltQULOHz4MFarDZPZhKqq1FTX4HK52j/gW0GH9pCqqmG2mPnDH/5Av/79GDpkKNdcM4ZP13zKDRNv4G9z/0ZpaSlen5fn/vIcVru1XelKBomEhHgQgu8LvycuPg6z2UzaxWlcccUVpKenc/PNN3NB3wuoqq6ipqaGmTNnomkaGZdnkJGRwa/u+xVpaWm89957pKSk8PwLz9P3gr64nC7+8OQfWPnhSpZnLaempoZnn3mWd955h13f7SI2Npa5c+fi8XiZPv0OoqKikA0yPsWHyWJi8s2TmTlzJr/+9QO89NJLPPPsM2zY8AXz588ntX8qjz/xOOPHj2fixIls3ryZd95+h6K9RcydM5eYmBj6p6aybfs2Fi1cxPd7vmf27Nl4PB5efvll9hbtZXnWclJTUxEheMWC/AKKiorYunUrW7KzmTZtGvNfms+SJUu44IILGTliBH96+k8kJSZhs9tQVIV+/foxd85cXpz3IqZwEw8++CDz5s1j9+7dWCOs3HX3XSxZspSNGzeSmtqfSTdNIqVPCtPvmI7NbtPZMf/k8MILL/Dpmk9JT09nz5493H///az59DP+/ve/YQwzMnfuXDL/mElcXByFBYW8+uqrHD16lIcffpjUi1IZPnwEa9as4cUXX8Tj8ZC1PIucnByWLl3K8YoK5sx5jiHpQ0IuDddddx0ZGRlMvnkys2fPZviw4fznU/9JUmIihw4f5j/+43domsYHH3yAkASlpaU8+eSTPPPMs1RUHGfhwkWkpV3MNaOvYfXHqxGSICMjA9mgZzho4CA2bdrEz372MzZt2oTVZgMheOqp/+LQoYP07t2bWbNm8fTT/42jXp/4BIJly5bSt28fvtzwJW/+800cDgeffPIJ0THRHSGpH9JCRyMIBFarld4pvbns8ss4cuQwxcXFOBwOesX24p5f3sPbb71NRUVF24k1TVcIXp4/n3cWLiRreRaPznwUj9fDv9/379x44028885C3B4PZpOZDRs2oCgqc+bM4eWXX6aoqIh+/frxzDPPYDabQYDVZkWSJMLCwqitreWfb73FnOfmcO3Ya6mtq2X8hPFM+8U0zCYzo0ePZvToq1nxwQrq6upoaisxfMRwDAYD27Ztp97h4LJLLyNzViZTpkyhvr6eRYsWsadoD/fddx9ej5cdOTv48+w/8z//8z+MHTsWNI36+nquv/56MjIyeP311/nmm2+IiYnh93/4PYpP0dnZFqD4FI6VHSMmJobIKDuDBg/iwMEDXHnVlURHx3DDDRN48803efjh33HjTTcG9ZLVZkWWZYQkOFF5gnnz5vHfT/83ZeVlFBZ+z6hLLmHq1KmoqspvH/4tP/vZz1izZg0et77KNVDkZZddxsEDB9m+Ywdul5ukpCT+mJnJ7dNup1evXixbvoz9+4uZ9otpDB8xnB05Odx22228s/Adrr12HKBhMpl56KGHSEpK5vPPP2fVqlXY7XZunzYNo9GIGso2RYNwUzgRERH4FB9msxmjyciePXs4XnGcf/zjFV577TUyMzM5fPgwQgh+/etfM2XKFAYPHsSkmyfx85/fwrfffktZeRlDhw7j+uuv11dpVUOWZcaNG8dnn33Gl19+yYgRI7BYzJSWHuXVf/yDGTNmsHzZcnJzclm5ciWzMmeRmJiAbJDJzcnl2LFjLFy0kL/+9UVunHgjy5cvb3Eb0BF0iCCF0NnS+vp6Dh08zN69++jTpw+qquFyuVixYgWbNm3Cp/hwe4L59TbTlgQjRoygtPQoX/7f/zFmzBjKyspY/fFqyo4d87MPKpIsA2CNiCA2Ng6b3UZdfR0Wi4WLLrooaEMfZghDkiUkScJut2GxWLDb7Xi9XkwmE16fj0OHD/H++++zb98+FFVn54RoTCQ2No6f3/pzfv/7J7jnnrux2qyomkpBQQGDBg1i5IiRACQlJRFmDAMNZFkmLj4em92OJEvk785n5cqVHCs9BsC4ceO4+uqrmfXkLAoLC0O2iWyQSUpKpry8nMoTleTl7STt4jRkSSYszIDH7UHVNEwmE2azObCyCYlAHYSQ8Pl8pKT0ISo6mpiYXqiqgizLuFwuSkpKWLVqFYcOHcLjZ8uEEEiyPjQuuvgiPF4PmZmzuPdX92KxWDBbzOTm5nLxxRczfPhwhBA6V2MyExamM11WqxWb1YrH42HTpm9Z+/laFMWH0+Xi7nvuJuMnGbw4bx67du5qZVA0vOj7b4/H66+T/kN4eDhms5lBgwaTmJgICK644gpyc3OpqqoGIDc3l4kTJzJgwAC/IFAEtgeyLGOJsFBXV8crf3+Fu+++B03VcDldmMwmsjdn88ADDyAbZIzGMCIjI+nVq1ejsE6D6KhooiIjsUREUFdX3+Y4bwsdXCEFBoOBvzz3F6644gr+8pdniY+Px263E24MJzEhkW1bt5GYmIjb7Q7JhoVCUnISsbGxREdFMXDQQGTZgMPhJL8gn3CjEUmWkSWJsWPGUl1TzdVXXcVNN01i8KDBeL1eVDV4dpJlGZPJRFRUNDfeeCO33nor7y95n9GjR3P55RksWrSQiuMVVFZWUl5+HKfTidvtJiIigrCwML2BZMHEiRPJz8/nmtHXYI2wkpmZSU5ODtu2byPCGoHdZscgG0hMSMQQFsajM2dy+7RpfPrpJ0RERGC2mHE4HVRUVFBdXc2uXbtY8+kaxo4dS1x8XKv77UGDBnLVlVcxeHA6U6fexpw5c4iMiiQ+PoEVH67grjvvJDNzFkuXLiXCGoHsJyRN0/D5fGiaRkpKChMmjGfKlFuprq5mypQpjBo1irlz5+JyufB4PFRUVGCQZX0yiYsLWrXv//f7OXjwIGOuGYM90s6jjz7Klq1b+GLDBqKioojt1QuDwYDJZMJoNPLue+/ym9/8hv/95H8xm8zIskz58XI8bg/19XVs37adrOVZDB82jLj4OFRFabUNFEXBZDbpsgkaiCCKqbdN5fHHHmf8+OvxeX3Ex8Xx1H8+hc/nY+fOPBa/t5i8vDy+/PJLoiKjGDp0KG+/9RYejxchCYQkER4ezl133UVkZCQpKb2pPFlJ6kUXceedd5JfkM+/vv4XF6VexNVXX83MR2dy6NAhjEYjCQkJJCTEc/3113P16NGsX7+OX/xiamAiO1WI07ZlDaFnUnwKskE+raTbrcNqI1zzsqg+FcnQvoZTfPpqEhCrq5o+Q4fIT+cKBKIj/dJ0Hmkl3u7vdrNs2TKe/tPTrZdfDU5HU/xS3k5QaWiKvjqczsBTvApy2KmNDU3RdaTN++WUcbb0pO3E6RNkU6gE9l9CiI6tvy3pi1qLH0ps3lKclsL62W8hRMvpdFTPKdE5OrbW6qy28XtH0MUGYg90dC5BtqCo7dLoGZQ96GycpqVUsNqjucVNRxPtboO7u5W3B10fLVkJdWCcBRFkbq4u3rVYLHp6WqM+qgc96EHrEAIkIeH1enF7PFxwQV9+dd+vOpZGU5bV5/XhcDhQVRVJSH79UAdUF+hWGA2vZwKSX1oSZDLXgx8FhBAdltyfC2iahqppGMPCiLBFdChuEEGqPhVFVXRhxykQlRCCkFvSTtqvNXTID4yIQ6FJvs3VIi2hQbTeZdDd9uVnAgHWrzuQo36QQAiBJEkd1jQY/Cn4T1E0ShzbHLzNT3eIRoWtpjUa/DYYVTf97rTQ1Ko/VHqhytKO7uyIMcPZQsPEKLTuMBzPILQzxXd1HnRilAANVVWRORWCbJ5oiEEpJBE00DVNC7Co4GcphEBV1aCVstWVs8WM0CcIf34NcXULiWZl9effNGxDeEmSUFG7JJG1F5qm6xAlIQXV7ccESZYCk7pG5x956nRoGghxSvIX+emnn3666RcNxNRAXGXl5WRnbya1fyoaGlu2bCUrazkDBwwkPDwcIQm+3/M9FouFAwcO8PZbbxMdHa1boADZm7Px+XytGt2qmookS2iqxtdff02YMQyb3cbx48f5+99f4ZtvvkZVNRITEnj//cXs2bOHoUOHomr+I1RCsHr1anJzchmQNgBVVVm/fj3r168nJSUFq7V9Ru5dEkI/8fD5Z5+TmJRIZGRkoG/Od2hoKIrCsmXLyN6SzbBhwxpNArsw8ypo6B/RYZY15IZJ0zQOHDjAxx9/zKeffIoQgv3797Ns2TImTZrEE79/AkVVkGUDGzZswOlwMn/+fCbfMpk333yT6uoaPv98LR+t/oj8ggLCwowhFfACgaqofLjyQ9auW0d5eTkA5WXlxMXFMWXKFIYMGcKSpUsYNGgQZpOZTz75hDBDGELAypUf4na7iYyK5M1/vklhYSE7d+7k0ksvZdGiRV1/Rm0F+/fv5/Chw1w77loWLFjQaJ3Sdcdjp0GWDeTl5REfH4/ZbGbbtm16/c/jyrcqwUju3ZvbbrsNk8mEbDBQVlZGdHQUAwYMoKqqirq6OoqL92M2mVE1jfj4eC666GKGjxjO0SNHmHjDDYwZMwZNVdFCSUW1Rlb3lltu4Yqf/CTAmtXU1rBv316ysj7A5XJy661TiImJ4UTlCcxmM16fD0mSOHDgABf0vYBRo0ZxoOSAbjBcW0dFxQmioqK69WrSp08fJkyYwL69+7CYLXh93nNdpLMGVVUYPnw411xzDcdKj2EymYAmt0Wch2iVIA2yjOS3gdQ0lfTB6dTV1vHiiy+ydu06zGYza9eu5YaJNwAaBoMBn3/AuD36qX5FUYKELK0hzBCGqmn6iQsEgwYO4qGHfsuUKbeyZMlSLBYL1dXVnDhxAkVRdGNoSWbixBtZu24tCxcuRPELo1wuF0eOHMbr8eJTfGdMDXOmERYWBgIOHT5EuMkUMHr/UUADg2xgx44d9E/tz7Bhw/QbF87jfXSrBNkwiBskrhFWK39+5s+MGTOGe++9F1nSj/BERUZhsVjYt28fsiSTk5NLr169kGXZv7/twJTWIJCRJfYUFeHxuAkzhCHLEu8vXkxCQgJXXnkV+/buw+F0cKKyksGDB/HYY4/Ru3dv0tMHU1S0l9GjRzN58mQ+XfMp7oYzft0Qe/fuJT8/nxnTZ7B927YfpaFGamoq48aN06/iaLA/Pk8RUqgDBHR4HreHAWkDkGWJr776ik2bNvHHP/6Rr/71FXGxcaQNSMMYZqR3Sm+e/cuzTJ58M8OHDUdRFdwuNzHRMcTGxrY5s8kGA6qqEBYWRkxMDFarlbffepuCwgLuu+8+kpOTWfjOQqqrq5g+fTrFxSWUlh4lJSWFV199Fbs9khkzZpCUlMTWrVtZs2YNjzzyCEmJiU022t0Ldnskm779llUffcQjjz5KREQEhgZBwY+EOPPzCwg3GrHZbf49ZNfG6Qh1dMMAvx6y4Qxdw4oYGMD+O2yEJDAYwlAUHwA1NTWYTGaMxjBdERqwotHTkeXGw77tUj0IobPIoJdDUQk3hQc+y7JOsJKQ8CkKkqRbbmiahjE8HEXx4fF4UBQFi8WCpupSuqATKN0MQgj/IeRwnE5n0IDszuqcjkBIutCvQafdldFUDQcCY3jHthhBBKmqfkudho5ucgSpNUObgOIaffC0YDPQztJw+g3emddRdjFogCSJzjOy6MGZhSCwoLQXAUudBlM0SZICdqIBQUgbZ1ub6oSEP71zthadxwNV8ONZFbs7AgYMHTQZ1QlS+E3cVH2VFJJol91nS2j1NH17JBLdj6vsQReCpmohLw3rzMm6re2PpumaCVVVO3S7QvABZT/b2mFTtx70oAtBP6kUvKB0tmVPSKJvMXAHgvb4h+xBD7oOztxZo3NF5j3TSw+6MdpPkKEGutbC+ybcwuk4JAlwHU3jt/Sdxg98OfTgPEDHzscHxzmVuF0ArboSUH0q23fswOv1MHzYcCKsEZSUHODggQMMGDiAhIQEAEqPlhLbK5aKigqKioq44MIL6JPSB0VVKC4uxm63k5iUGDojf+OVlZWxp2gPCQkJpA1Iw+12s337diIiLAwZMoTt27ZTV1+PLElERkUx8pIRenwBeXk7cdTXkz5kCPZIG3U1dezdu5cRDWG6KYr3l1C8fz8IiIiwcumoUad8hWJ3hNfrIy8vD7fbxWWXXYYxPMQhheboSsTYgT1kqyvkuvXr+O67XSiKwkvzX6KiooLZs2fT94K+3PvLe/H5fCBgxQcrqK2rZc6cOfRP7c/8l+ZTW1vLxo0bef7559myZWubBfEpPhYvXkxsbCwfffQRewr38L8ff0yvmBgKC79ny5Yt9Ovfj4EDB+B2u/nqq/8LxP1yw5dkb95MvaOeN954nfKyclauXMmUKVPweU/BE1cXQmxsLwYMGED/fv2ZPXv2j4oYEZCTs4MTJyrIz8/nq6++Cnzf5iP5n/aEPdNPB9DqCnn5ZZdjs9s5dOggBtlAeXk5qan9ubDfhaSmplJaWoosy5gtZnw+BXuknZQ+KQxOH8zhI0cYe+1Y/QbzdljIGMIM3PPLX6IoPgwGA1ablXHXXYeqKig+H0ZjOHFx8WiaStbyLKb+YmpAxL1z5y6uuupK+vdPZePGjcTExDDjzhm8++67Acuf7gqbzYbNbmPzt5t58MHfnOvinHVcOupSJIPE6wveILZX7LkuzhlH6BVSg+iYaOrr6njrn28x484ZuFwujEadZQg36Ve7f/LJJ9x0400BG9RGZyM6z+DzKW0rs/00Y7fZ2LlzF/X1DiQhER0dxe7vdnPw0EHsdhtCgpKSEqqrq0nunRwwpfJ4dDdwkiSQJRk1YGnUvYkRAAFul4fsLdmMv35812LFzgIkg8S2LduIiopk5KiRp59g8z1mS885RMsE6bcuqK2t5a8v/pWHfvsQvVN6k5CQwI4dO0BA1vLl2Gx2nE4nMTEx2Gw2SktL0TSNwsLvsUbop/Q9Hndjmq3A5/WRlZXF2DFjSExIoKCwgKysD7hmzDVMnz6d9evW64eYP/yQu+6+S4/j8VFf76Bfv34cPnKYyspKqqqrAQ2Px6Ovjt11ADcRVBXk5xMbG4dkkPB6ztPzkA31bfr4v0/p04fx48d3Tj6dzGJ2Nn5w2gMI2IPm5eVRV1vH1m1b2bF9B1dccSWJCQmsXr2azFmZHDx0EKvVyoCBAzAajSQlJbPyww8Ze+1Y0tPTkSSJ6qpqIiOjSEpKbLWykizhdDpZsWIFycnJTJgwgejoaN7651uUlZVxxx13IMkSJ05UkpGRgRCCAwcOUFxczLhx48jLyyNnRw533jmD2LhYJCHhdrkZOXJkoxK3qWPUrv40QIOdu3YydswYzGZzsD+L7lSfU1mV/N8XFhYSHh6OzW4LEfD8QauGAa2xmkISVByvwG6zYzQZm0RqGqgzihgC/lW8Ib/AiY6me8aGsjQdwN0dTdu0u67+HUUXWLnOFlq31Gmtw9tqIK0dYTobzQmw+efuhNNp++6KUHU+X+vbAlp3ad7ehmiJ+M5FI57yua9uhu480ZwKumN9G1jxDq7uwQTZwNI1iHo6whKd7moa6qcQC3irqpQQ6enS12CK/UEqXaXT29P2XaWsnYW26tyN6nuqxuyNBOn37ej16bcBSO1QGTS9JLm1MPr/0K0tteLdNFS85vm2i0PuRh3ag+4PTdOQZblDx69C3FyuorZ0Ml38cGXqjNvcTsVxTkv5tlmSbiQEaY8xxfl2UKftM4bdp76a//bEjnqaDhCkhuZ3suNnf0NcE9EZ99N0ZsOKtq4zOEP5nnU04TKC/Jb8iNCd6nuqrhyDVkit2YeWGqCp96mOHNIM8qZ1iu3aIlvajiIE3aLXXdBSvZo3QHeqTzsQUl7QkirrPEVIKavPb1O6fft2aqprGDVqFFarlaJ9RZSUlDB06DCSkhIRQnD40GGSkpMoKysnf/du0gakkZKSgqIolJSUYLPZSU5KCn0tiL+9T548Sc6OHOIT4hk6dCi1NbVszs6md+9kBg8eTF1NLdlbsvH5FHonJ5M+JF2/KkFVyc3Nw+GoZ9QlozCGG8nLzaO6uprLMy4nwqL76OtOlyU3dWC0detWysrKCDOEMeGGCbpR/3mOhr7yer1s3boNSQgyMjIaWcCu1pXC/yeIg+x4IVtkcIUkMBrD+ddX/2LHjh3U1tXy+huvc6KykkWLFhERYeWB++8POHZduWoltbV1PPPMn4mwRvDyyy9TU1PD+vXreX7u8+Tm5DRe4de8jAKE0K10FixYgKZprFr1EQUFhWRlZaGpKp999jn5u/PZX7yfrKwsLGYzhjADkiQTbjSyeXM2Bfn5lB4t5fU3XmfP93vYnJ2Ny+Xi/cXvB3np6i7/GuB0OPnss8+JiY7BarM2biW62oDsZAgEsiyTk5ND8f79bNm6hW3bt7UqADyn0Pd5QZP+qdwOGFS7gD5d1VAUH2lpacyYcScjR45ElmR69Yph5syZJCTEExcXhyzJHDt2DFO4Ca/HQ2xsHGPGjmHIkCEcPXKUmyfdzJQpU3Q/eaEujNV0Hw5Go5HJkydz3U9/SnJyMl6vh127djF+/Hjuuedusrdkc/LkSaKjoynaW0R0dDQ+rxeX28XgwYMYP2ECsbGxCAR9+/ZlxvTp2Gw2EDTOqt1QyupwOPB6PezevTvIf+d5Db/uTlU1Rl0yirvvvpvY2FiMRmOjfKONuKf1dKCMTZ+Au8am8pVTJcjmwhGBIDk5GU1TWbp0KZMmTULTNOrq6li8eDGDBg1CUVXWrlvLdT+9DgRYLBYc9Q4kScLj9eDz+fB4PW2yigLd22x6ejrfbtxIXW0tw4cPZ+KNE3n5by+zcOFCLBYLAwcO5P7772fkyJG88MILWKwWhJCw2+0UFBTw2eefk5qaiiXCwr79+1izZg1xcfFIQuq2g9lmszF16lRuueUW3njjjYBa6nxGg/MlIQTGcCPbd2zn2LEyLrlkFLShamub8+icWblpGQOu1rWmv+v+aTp6SU6LwTV0gY2mabz00kvcdNNNXJx2MQcPHqSwsJDZs2ezddtWnE4HNTW19E7ujcViYe/eIiwRFvbu3UuvXr0wGA3BLEYr7SEQZGdns33HdmY+NhNVUfm3f/s3HnnkEaKiohg5YiQFBYUoPoU+ffrox7oUDa/Xy4YvNpCQkMDvfvcw2Vuy2b5tO1GRUTw560m++GI9Hq9Hz7gzZs+z9fhxsqqKkpISomOi+clPfqJ7ETvXZTtLdW9YaBITE3nooQdRFF+j09YQcVVVbfUJ6YWtKdpRxoDD4iaOizU03anwaTjWbVGoIxBoqsa69evIy83ju+++w263M3fu86xe/TFZWVn85te/Yc+ePfTt2weT2YSmadx6663c/ovbmXDDBOLj4lF8CiazGVnSPeCGEtfrBgle7rvvPtLThzB58mTunHEn1/30p0yadBOZszJJS0sjKTmJ5557jurqajIz/0j2li1UVVWRPiSdV199lcrKSh555BHi4xN4ad48SkpKeOL3T2AwGAI1625ISEigqqqa6XdM55f3/r7iizMAAAG8SURBVBKzyfyjcUnXME4KCwpJG5BGn5Q+qJraqspNyOe2j4PyPwWabDQuV3UFveJTAtJQSZbRNBVJ0lc5RVECy7OQBKWlpdhsNkwms+5nQ+isZ+PMod+EjqahqErLfj4EAXbSpyjI/v2epupejmRZxqf4mhGz7gPE5/MhhIQsSwGdj8DvkVmSA+TXnaSrTdFU56upWmNb/QjR4NW7W0Ej+CRUO9AqQQbrGYVfikTwntU/UBoK8APdpF+f2aqZXZP4oUva7Pfmn1uL11baXR1N69reep9P6I51Fjqn2VGCbP20RxD8M3SIn1qJBRCaGNuIHzJMezvoHHRk2yuy3hrt3mdoLb/vdivGqaK7EeNpoJEgJUChcfkTTVimkJTYworY/HdB8JLaSQg9mEXI7IJ8X4aK3Q6fDW2NkAYWP3QafpI9zWY5W6z46bZZe9I4ewg9PhrQnrK2VWehCTShtfPUQ9N4TXLXlAbFpghYHPhz73L3RYW8zeA091mdYeDcZv5tnH5pL87WCtkmQbYyYbc3jbOJs9LHQYE7EDToxoCmEuEuahDRgx6czwjeQzal5NO9f6aZTqkHPehB2/h/HgujRi8sDe4AAAAASUVORK5CYII=)"
      ],
      "metadata": {
        "id": "-CI3nPRcuBsg"
      }
    },
    {
      "cell_type": "markdown",
      "source": [
        "Ticket Médio dia 19"
      ],
      "metadata": {
        "id": "krxxfmDDvVzV"
      }
    },
    {
      "cell_type": "code",
      "source": [
        "val_19 = 153.98\n",
        "quant_v19 = 3\n",
        "dia19 = (val_19 / quant_v19)\n",
        "print(dia19)"
      ],
      "metadata": {
        "colab": {
          "base_uri": "https://localhost:8080/"
        },
        "id": "dXE-jsBhuEOG",
        "outputId": "d9d0a0db-5a95-42da-ee13-3ac4f313c977"
      },
      "execution_count": 36,
      "outputs": [
        {
          "output_type": "stream",
          "name": "stdout",
          "text": [
            "51.32666666666666\n"
          ]
        }
      ]
    },
    {
      "cell_type": "markdown",
      "source": [
        "Ticket Médio dia 20"
      ],
      "metadata": {
        "id": "siEHJOXIvYAL"
      }
    },
    {
      "cell_type": "code",
      "source": [
        "val_20 = 337.01\n",
        "quant_v20 = 7\n",
        "dia20 = (val_20 / quant_v20)\n",
        "print(dia20)"
      ],
      "metadata": {
        "colab": {
          "base_uri": "https://localhost:8080/"
        },
        "id": "FrJOV-sPvf--",
        "outputId": "feaa56fa-6d4c-4382-a40f-eb6d3855a048"
      },
      "execution_count": 37,
      "outputs": [
        {
          "output_type": "stream",
          "name": "stdout",
          "text": [
            "48.144285714285715\n"
          ]
        }
      ]
    },
    {
      "cell_type": "markdown",
      "source": [
        "Ticket Médio dia 23"
      ],
      "metadata": {
        "id": "gZDDDObWvawY"
      }
    },
    {
      "cell_type": "code",
      "source": [
        "val_23 = 395.53\n",
        "quant_v23 = 5\n",
        "dia23 = (val_23 / quant_v23)\n",
        "print(dia23)"
      ],
      "metadata": {
        "colab": {
          "base_uri": "https://localhost:8080/"
        },
        "id": "SgbWg8H0vp1k",
        "outputId": "a6b7ea83-027c-4fb0-839d-4fbc74075ad9"
      },
      "execution_count": 39,
      "outputs": [
        {
          "output_type": "stream",
          "name": "stdout",
          "text": [
            "79.106\n"
          ]
        }
      ]
    },
    {
      "cell_type": "markdown",
      "source": [
        "Calculando o ticket médio por período"
      ],
      "metadata": {
        "id": "hQwE71UMv-Ck"
      }
    },
    {
      "cell_type": "code",
      "source": [
        "val_19 = 153.98\n",
        "quant_v19 = 3\n",
        "dia19 = (val_19 / quant_v19)\n",
        "\n",
        "val_20 = 337.01\n",
        "quant_v20 = 7\n",
        "dia20 = (val_20 / quant_v20)\n",
        "\n",
        "val_23 = 395.53\n",
        "quant_v23 = 5\n",
        "dia23 = (val_23 / quant_v23)\n",
        "\n",
        "tkt = (dia19 + dia20 + dia23) / 3\n",
        "print(tkt)"
      ],
      "metadata": {
        "colab": {
          "base_uri": "https://localhost:8080/"
        },
        "id": "CJi8QLOpxBe1",
        "outputId": "811ee994-7784-4d8d-fd4e-d331b7223c45"
      },
      "execution_count": 49,
      "outputs": [
        {
          "output_type": "stream",
          "name": "stdout",
          "text": [
            "59.52565079365079\n"
          ]
        }
      ]
    },
    {
      "cell_type": "markdown",
      "source": [
        "\n",
        "# Strings"
      ],
      "metadata": {
        "id": "lNxYJ9m3xs45"
      }
    }
  ]
}