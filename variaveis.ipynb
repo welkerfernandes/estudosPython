{
  "nbformat": 4,
  "nbformat_minor": 0,
  "metadata": {
    "colab": {
      "provenance": [],
      "authorship_tag": "ABX9TyNfJYYpxZoie47tAEUB3iI8",
      "include_colab_link": true
    },
    "kernelspec": {
      "name": "python3",
      "display_name": "Python 3"
    },
    "language_info": {
      "name": "python"
    }
  },
  "cells": [
    {
      "cell_type": "markdown",
      "metadata": {
        "id": "view-in-github",
        "colab_type": "text"
      },
      "source": [
        "<a href=\"https://colab.research.google.com/github/welkerfernandes/estudosPython/blob/master/variaveis.ipynb\" target=\"_parent\"><img src=\"https://colab.research.google.com/assets/colab-badge.svg\" alt=\"Open In Colab\"/></a>"
      ]
    },
    {
      "cell_type": "markdown",
      "source": [
        "Variáveis"
      ],
      "metadata": {
        "id": "mp1oJ-UDh32f"
      }
    },
    {
      "cell_type": "code",
      "source": [
        "idade = 30\n",
        "print(idade)"
      ],
      "metadata": {
        "colab": {
          "base_uri": "https://localhost:8080/"
        },
        "id": "5MLTxRB4h7Is",
        "outputId": "47210e02-0b6d-4809-f9fe-abe856257406"
      },
      "execution_count": null,
      "outputs": [
        {
          "output_type": "stream",
          "name": "stdout",
          "text": [
            "30\n"
          ]
        }
      ]
    },
    {
      "cell_type": "markdown",
      "source": [
        "Tipos Numéricos"
      ],
      "metadata": {
        "id": "0_8USN8OisqY"
      }
    },
    {
      "cell_type": "code",
      "source": [
        "preco_da_banana = 1000\n",
        "typo = type(preco_da_banana)\n",
        "print(preco_da_banana)\n",
        "print(typo)\n",
        "\n",
        "juros = 0.05\n",
        "tipo_juros = type(juros)\n",
        "print(juros)\n",
        "print(tipo_juros)"
      ],
      "metadata": {
        "colab": {
          "base_uri": "https://localhost:8080/"
        },
        "id": "sYKnX7xdiuaY",
        "outputId": "b170524c-bf62-4800-f736-1572bbd247a0"
      },
      "execution_count": null,
      "outputs": [
        {
          "output_type": "stream",
          "name": "stdout",
          "text": [
            "1000\n",
            "<class 'int'>\n",
            "0.05\n",
            "<class 'float'>\n"
          ]
        }
      ]
    },
    {
      "cell_type": "markdown",
      "source": [
        "Tipo textual"
      ],
      "metadata": {
        "id": "wxbNRdhWjgOo"
      }
    },
    {
      "cell_type": "code",
      "source": [
        "meu_nome = str('Welker')\n",
        "tipo_nome = type(meu_nome)\n",
        "print(meu_nome)\n",
        "print(tipo_nome)\n"
      ],
      "metadata": {
        "colab": {
          "base_uri": "https://localhost:8080/"
        },
        "id": "VIufFTM2jjuC",
        "outputId": "69510a7b-f8ba-4712-c75b-130c7eafd180"
      },
      "execution_count": null,
      "outputs": [
        {
          "output_type": "stream",
          "name": "stdout",
          "text": [
            "Welker\n",
            "<class 'str'>\n"
          ]
        }
      ]
    },
    {
      "cell_type": "markdown",
      "source": [
        "Tipo Booleanas (true or false)"
      ],
      "metadata": {
        "id": "9gkM8OoDjznw"
      }
    },
    {
      "cell_type": "code",
      "source": [
        "vari = True\n",
        "print(type(vari))"
      ],
      "metadata": {
        "colab": {
          "base_uri": "https://localhost:8080/"
        },
        "id": "4iK965fOj2XM",
        "outputId": "1fd22fb8-46a8-4581-8995-058e557f87f1"
      },
      "execution_count": null,
      "outputs": [
        {
          "output_type": "stream",
          "name": "stdout",
          "text": [
            "<class 'bool'>\n"
          ]
        }
      ]
    },
    {
      "cell_type": "markdown",
      "source": [
        "Tipo Vazio"
      ],
      "metadata": {
        "id": "dNlN0GhtkQeA"
      }
    },
    {
      "cell_type": "code",
      "source": [
        "tipo_vazio = None\n",
        "print(type(tipo_vazio))\n",
        "print(tipo_vazio)"
      ],
      "metadata": {
        "colab": {
          "base_uri": "https://localhost:8080/"
        },
        "id": "y6sOB2CpkR0R",
        "outputId": "dfa2b250-9340-4b7a-96bc-79fc1df2067f"
      },
      "execution_count": null,
      "outputs": [
        {
          "output_type": "stream",
          "name": "stdout",
          "text": [
            "<class 'NoneType'>\n",
            "None\n"
          ]
        }
      ]
    }
  ]
}