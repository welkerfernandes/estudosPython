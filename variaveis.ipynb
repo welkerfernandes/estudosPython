{
  "nbformat": 4,
  "nbformat_minor": 0,
  "metadata": {
    "colab": {
      "provenance": [],
      "toc_visible": true,
      "authorship_tag": "ABX9TyPkYVVkzrqGZhJ9z/sUqri/",
      "include_colab_link": true
    },
    "kernelspec": {
      "name": "python3",
      "display_name": "Python 3"
    },
    "language_info": {
      "name": "python"
    }
  },
  "cells": [
    {
      "cell_type": "markdown",
      "metadata": {
        "id": "view-in-github",
        "colab_type": "text"
      },
      "source": [
        "<a href=\"https://colab.research.google.com/github/welkerfernandes/estudosPython/blob/master/variaveis.ipynb\" target=\"_parent\"><img src=\"https://colab.research.google.com/assets/colab-badge.svg\" alt=\"Open In Colab\"/></a>"
      ]
    },
    {
      "cell_type": "markdown",
      "source": [
        "Variáveis"
      ],
      "metadata": {
        "id": "mp1oJ-UDh32f"
      }
    },
    {
      "cell_type": "code",
      "source": [
        "idade = 30\n",
        "print(idade)"
      ],
      "metadata": {
        "colab": {
          "base_uri": "https://localhost:8080/"
        },
        "id": "5MLTxRB4h7Is",
        "outputId": "47210e02-0b6d-4809-f9fe-abe856257406"
      },
      "execution_count": null,
      "outputs": [
        {
          "output_type": "stream",
          "name": "stdout",
          "text": [
            "30\n"
          ]
        }
      ]
    },
    {
      "cell_type": "markdown",
      "source": [
        "Tipos Numéricos"
      ],
      "metadata": {
        "id": "0_8USN8OisqY"
      }
    },
    {
      "cell_type": "code",
      "source": [
        "preco_da_banana = 1000\n",
        "typo = type(preco_da_banana)\n",
        "print(preco_da_banana)\n",
        "print(typo)\n",
        "\n",
        "juros = 0.05\n",
        "tipo_juros = type(juros)\n",
        "print(juros)\n",
        "print(tipo_juros)"
      ],
      "metadata": {
        "colab": {
          "base_uri": "https://localhost:8080/"
        },
        "id": "sYKnX7xdiuaY",
        "outputId": "b170524c-bf62-4800-f736-1572bbd247a0"
      },
      "execution_count": null,
      "outputs": [
        {
          "output_type": "stream",
          "name": "stdout",
          "text": [
            "1000\n",
            "<class 'int'>\n",
            "0.05\n",
            "<class 'float'>\n"
          ]
        }
      ]
    },
    {
      "cell_type": "markdown",
      "source": [
        "\n",
        "\n",
        "```\n",
        "# Isto está formatado como código\n",
        "```\n",
        "\n",
        "Tipo textual"
      ],
      "metadata": {
        "id": "wxbNRdhWjgOo"
      }
    },
    {
      "cell_type": "markdown",
      "source": [
        "# Números"
      ],
      "metadata": {
        "id": "Af_BnF_omWZO"
      }
    },
    {
      "cell_type": "markdown",
      "source": [
        "Tipos de variáveis numericas<br>\n",
        "inteiro (1,2,3)<br>\n",
        "float (1.4, 1.47)<br>\n",
        "complex (1+5j)<br>"
      ],
      "metadata": {
        "id": "N-AK-NpimhZD"
      }
    },
    {
      "cell_type": "code",
      "source": [
        "inteiro = 10\n",
        "floa_num = 4.5\n",
        "complexo = (1+5j)\n",
        "print(type(inteiro), type(floa_num), type(complexo))"
      ],
      "metadata": {
        "colab": {
          "base_uri": "https://localhost:8080/"
        },
        "id": "0FkjHkronBw8",
        "outputId": "d59f57a9-7711-4f1c-fc0a-661fd93fd639"
      },
      "execution_count": 20,
      "outputs": [
        {
          "output_type": "stream",
          "name": "stdout",
          "text": [
            "<class 'int'> <class 'float'> <class 'complex'>\n"
          ]
        }
      ]
    },
    {
      "cell_type": "markdown",
      "source": [
        "**Operações**"
      ],
      "metadata": {
        "id": "im-mbzZJn59x"
      }
    },
    {
      "cell_type": "markdown",
      "source": [
        "+ (soma +)\n",
        "- (subtração -)\n",
        "/ (divisão /)\n",
        "* (multiplicação * )\n",
        "\n",
        "Operações mais avançadas\n",
        "\n",
        "+ (divisão inteira //)\n",
        "+ (potência ou exponenciação **)\n",
        "+ (resto da divisão %)"
      ],
      "metadata": {
        "id": "rWJumo9goIT5"
      }
    },
    {
      "cell_type": "markdown",
      "source": [
        "**Exemplo**: Carrinho de compra"
      ],
      "metadata": {
        "id": "lKgE5Z0LoyyC"
      }
    },
    {
      "cell_type": "code",
      "source": [
        "quant_item_carr_compras = 0\n",
        "quant_item_carr_compras = quant_item_carr_compras + 1\n",
        "print('Quantidade de Produto no carrinho: {}'.format(quant_item_carr_compras))\n",
        "\n",
        "quant_item_carr_compras = quant_item_carr_compras + 1\n",
        "print('Quant. Produto no Carrinho: {}'.format(quant_item_carr_compras))"
      ],
      "metadata": {
        "colab": {
          "base_uri": "https://localhost:8080/"
        },
        "id": "jMP-ojHlo1vV",
        "outputId": "98d2fe71-87bb-4214-a37d-5a3ffb3ec733"
      },
      "execution_count": 25,
      "outputs": [
        {
          "output_type": "stream",
          "name": "stdout",
          "text": [
            "Quantidade de Produto no carrinho: 1\n",
            "Quant. Produto no Carrinho: 2\n"
          ]
        }
      ]
    },
    {
      "cell_type": "markdown",
      "source": [
        "Deixando **Código mais limpo**"
      ],
      "metadata": {
        "id": "f1rysKONqFaP"
      }
    },
    {
      "cell_type": "code",
      "source": [
        "print('Aqui adicionei 3 produtos no carrinho usando a mesma variável')\n",
        "quant_carr_compra = 0\n",
        "quant_carr_compra += 1\n",
        "print('Tenho {} produto no carrinho'.format(quant_carr_compra))\n",
        "\n",
        "quant_carr_compra += 1\n",
        "print('Agora tenho {} produto no carrinho'.format(quant_carr_compra))\n",
        "\n",
        "quant_carr_compra += 1\n",
        "print('Agora tenho {} produto no carrinho'.format(quant_carr_compra))"
      ],
      "metadata": {
        "colab": {
          "base_uri": "https://localhost:8080/"
        },
        "id": "qhWWE1uDqHv7",
        "outputId": "053c0a9a-5760-4bee-eedc-d60562d2bfe6"
      },
      "execution_count": 31,
      "outputs": [
        {
          "output_type": "stream",
          "name": "stdout",
          "text": [
            "Aqui adicionei 3 produtos no carrinho usando a mesma variável\n",
            "Tenho 1 produto no carrinho\n",
            "Agora tenho 2 produto no carrinho\n",
            "Agora tenho 3 produto no carrinho\n"
          ]
        }
      ]
    },
    {
      "cell_type": "markdown",
      "source": [
        "Exemplo **Float ou Decimais**"
      ],
      "metadata": {
        "id": "-u2dFOOps6sc"
      }
    },
    {
      "cell_type": "code",
      "source": [
        "preco_da_carne = 23\n",
        "quantidade = 0.582\n",
        "total_pagar = preco_da_carne * quantidade\n",
        "print('R$ {}'.format(total_pagar))"
      ],
      "metadata": {
        "colab": {
          "base_uri": "https://localhost:8080/"
        },
        "id": "aB2UyrlDs-Bb",
        "outputId": "b7736389-e95e-43b3-c3c3-4a6f2202e0a9"
      },
      "execution_count": 33,
      "outputs": [
        {
          "output_type": "stream",
          "name": "stdout",
          "text": [
            "R$ 13.386\n"
          ]
        }
      ]
    },
    {
      "cell_type": "markdown",
      "source": [
        "**Converter** tipo de dados de uma variável"
      ],
      "metadata": {
        "id": "ZipatdgRtOXy"
      }
    },
    {
      "cell_type": "code",
      "source": [
        "var = int(10)\n",
        "print(var)\n",
        "var = float(10)\n",
        "print(var)\n",
        "var = complex(10)\n",
        "print(var)"
      ],
      "metadata": {
        "colab": {
          "base_uri": "https://localhost:8080/"
        },
        "id": "EfCrZ_6ZtrMV",
        "outputId": "84edd043-90ce-4aa9-cd02-47616c2a01ff"
      },
      "execution_count": 35,
      "outputs": [
        {
          "output_type": "stream",
          "name": "stdout",
          "text": [
            "10\n",
            "10.0\n",
            "(10+0j)\n"
          ]
        }
      ]
    }
  ]
}