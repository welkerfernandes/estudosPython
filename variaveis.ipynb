{
  "nbformat": 4,
  "nbformat_minor": 0,
  "metadata": {
    "colab": {
      "provenance": [],
      "toc_visible": true,
      "authorship_tag": "ABX9TyNKFl+9coZqMj7fcOsLnLmJ",
      "include_colab_link": true
    },
    "kernelspec": {
      "name": "python3",
      "display_name": "Python 3"
    },
    "language_info": {
      "name": "python"
    }
  },
  "cells": [
    {
      "cell_type": "markdown",
      "metadata": {
        "id": "view-in-github",
        "colab_type": "text"
      },
      "source": [
        "<a href=\"https://colab.research.google.com/github/welkerfernandes/estudosPython/blob/master/variaveis.ipynb\" target=\"_parent\"><img src=\"https://colab.research.google.com/assets/colab-badge.svg\" alt=\"Open In Colab\"/></a>"
      ]
    },
    {
      "cell_type": "markdown",
      "source": [
        "Variáveis"
      ],
      "metadata": {
        "id": "mp1oJ-UDh32f"
      }
    },
    {
      "cell_type": "code",
      "source": [
        "idade = 30\n",
        "print(idade)"
      ],
      "metadata": {
        "colab": {
          "base_uri": "https://localhost:8080/"
        },
        "id": "5MLTxRB4h7Is",
        "outputId": "47210e02-0b6d-4809-f9fe-abe856257406"
      },
      "execution_count": null,
      "outputs": [
        {
          "output_type": "stream",
          "name": "stdout",
          "text": [
            "30\n"
          ]
        }
      ]
    },
    {
      "cell_type": "markdown",
      "source": [
        "Tipos Numéricos"
      ],
      "metadata": {
        "id": "0_8USN8OisqY"
      }
    },
    {
      "cell_type": "code",
      "source": [
        "preco_da_banana = 1000\n",
        "typo = type(preco_da_banana)\n",
        "print(preco_da_banana)\n",
        "print(typo)\n",
        "\n",
        "juros = 0.05\n",
        "tipo_juros = type(juros)\n",
        "print(juros)\n",
        "print(tipo_juros)"
      ],
      "metadata": {
        "colab": {
          "base_uri": "https://localhost:8080/"
        },
        "id": "sYKnX7xdiuaY",
        "outputId": "b170524c-bf62-4800-f736-1572bbd247a0"
      },
      "execution_count": null,
      "outputs": [
        {
          "output_type": "stream",
          "name": "stdout",
          "text": [
            "1000\n",
            "<class 'int'>\n",
            "0.05\n",
            "<class 'float'>\n"
          ]
        }
      ]
    },
    {
      "cell_type": "markdown",
      "source": [
        "\n",
        "\n",
        "```\n",
        "# Isto está formatado como código\n",
        "```\n",
        "\n",
        "Tipo textual"
      ],
      "metadata": {
        "id": "wxbNRdhWjgOo"
      }
    },
    {
      "cell_type": "markdown",
      "source": [
        "# Números"
      ],
      "metadata": {
        "id": "Af_BnF_omWZO"
      }
    },
    {
      "cell_type": "markdown",
      "source": [
        "Tipos de variáveis numericas<br>\n",
        "inteiro (1,2,3)<br>\n",
        "float (1.4, 1.47)<br>\n",
        "complex (1+5j)<br>"
      ],
      "metadata": {
        "id": "N-AK-NpimhZD"
      }
    },
    {
      "cell_type": "code",
      "source": [
        "inteiro = 10\n",
        "floa_num = 4.5\n",
        "complexo = (1+5j)\n",
        "print(type(inteiro), type(floa_num), type(complexo))"
      ],
      "metadata": {
        "colab": {
          "base_uri": "https://localhost:8080/"
        },
        "id": "0FkjHkronBw8",
        "outputId": "d59f57a9-7711-4f1c-fc0a-661fd93fd639"
      },
      "execution_count": 20,
      "outputs": [
        {
          "output_type": "stream",
          "name": "stdout",
          "text": [
            "<class 'int'> <class 'float'> <class 'complex'>\n"
          ]
        }
      ]
    },
    {
      "cell_type": "markdown",
      "source": [
        "**Operações**"
      ],
      "metadata": {
        "id": "im-mbzZJn59x"
      }
    },
    {
      "cell_type": "markdown",
      "source": [
        "+ (soma +)\n",
        "- (subtração -)\n",
        "/ (divisão /)\n",
        "* (multiplicação * )\n",
        "\n",
        "Operações mais avançadas\n",
        "\n",
        "+ (divisão inteira //)\n",
        "+ (potência ou exponenciação **)\n",
        "+ (resto da divisão %)"
      ],
      "metadata": {
        "id": "rWJumo9goIT5"
      }
    },
    {
      "cell_type": "markdown",
      "source": [
        "Exemplo: Carrinho de compra"
      ],
      "metadata": {
        "id": "lKgE5Z0LoyyC"
      }
    },
    {
      "cell_type": "code",
      "source": [
        "quant_item_carr_compras = 0\n",
        "quant_item_carr_compras = quant_item_carr_compras + 1\n",
        "print('Quantidade de Produto no carrinho: {}'.format(quant_item_carr_compras))\n",
        "\n",
        "quant_item_carr_compras = quant_item_carr_compras + 1\n",
        "print('Quant. Produto no Carrinho: {}'.format(quant_item_carr_compras))"
      ],
      "metadata": {
        "colab": {
          "base_uri": "https://localhost:8080/"
        },
        "id": "jMP-ojHlo1vV",
        "outputId": "98d2fe71-87bb-4214-a37d-5a3ffb3ec733"
      },
      "execution_count": 25,
      "outputs": [
        {
          "output_type": "stream",
          "name": "stdout",
          "text": [
            "Quantidade de Produto no carrinho: 1\n",
            "Quant. Produto no Carrinho: 2\n"
          ]
        }
      ]
    }
  ]
}